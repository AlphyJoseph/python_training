{
 "cells": [
  {
   "cell_type": "markdown",
   "metadata": {},
   "source": [
    " ## Data Analysis Using [Python](https://www.python.org)"
   ]
  },
  {
   "cell_type": "markdown",
   "metadata": {},
   "source": [
    "![Gudio Van Rossum](gudio_van_rossum.jpg?raw=true)"
   ]
  },
  {
   "cell_type": "markdown",
   "metadata": {},
   "source": [
    "## Installation\n",
    "\n",
    "* #### We will be using Anaconda distributed by [CONTINUUM](https://www.continuum.io/downloads)\n",
    "* #### Anaconda is a completely free [Python](https://www.python.org) distribution (including for commercial use and redistribution). It includes more than 400 of the most popular Python packages for science, math, engineering, and data analysis\n",
    "* #### Check the python version installed on our training desktop/laptop"
   ]
  },
  {
   "cell_type": "markdown",
   "metadata": {},
   "source": [
    "## Why Python ?\n",
    "\n",
    "* #### Easy to learn\n",
    "* #### Has efficient high level data structures\n",
    "* #### Elegent Syntax and Dynamic typing\n",
    "* #### Many third party libraries/modules\n",
    "* #### Active community support"
   ]
  },
  {
   "cell_type": "markdown",
   "metadata": {},
   "source": [
    "## Introduction to [Jupyter](http://jupyter.org) notebooks\n",
    "\n",
    "* #### Starting jupyter notebook\n",
    "* #### How to get python help\n",
    "* #### Walk thru basic operations\n",
    "* #### Magic commands"
   ]
  },
  {
   "cell_type": "code",
   "execution_count": 2,
   "metadata": {
    "collapsed": false
   },
   "outputs": [
    {
     "name": "stdout",
     "output_type": "stream",
     "text": [
      "Hello World!!\n"
     ]
    }
   ],
   "source": [
    "# My first program\n",
    "print(\"Hello World!!\")"
   ]
  },
  {
   "cell_type": "code",
   "execution_count": 4,
   "metadata": {
    "collapsed": true
   },
   "outputs": [],
   "source": [
    "# Python is dynamically typed language\n",
    "# Following are the data types\n",
    "iam_integer = 100\n",
    "iam_float = 3.14\n",
    "iam_str = \"Hellow\"\n",
    "iam_bool = True\n",
    "iam_complex = 3+4j"
   ]
  },
  {
   "cell_type": "code",
   "execution_count": 7,
   "metadata": {
    "collapsed": false
   },
   "outputs": [
    {
     "name": "stdout",
     "output_type": "stream",
     "text": [
      "<type 'int'>\n",
      "<type 'float'>\n",
      "<type 'str'>\n",
      "<type 'bool'>\n",
      "<type 'complex'>\n"
     ]
    }
   ],
   "source": [
    "print(type(iam_integer))\n",
    "print(type(iam_float))\n",
    "print(type(iam_str))\n",
    "print(type(iam_bool))\n",
    "print(type(iam_complex))"
   ]
  },
  {
   "cell_type": "code",
   "execution_count": 15,
   "metadata": {
    "collapsed": false
   },
   "outputs": [],
   "source": [
    "# everything is Python is an object, int, function, class, type\n",
    "# Intriduction to objects and namespace\n",
    "a = 2\n",
    "a = a +1\n",
    "b = 2"
   ]
  },
  {
   "cell_type": "markdown",
   "metadata": {
    "collapsed": true
   },
   "source": [
    "![](namespace_example.png?raw=true)"
   ]
  },
  {
   "cell_type": "code",
   "execution_count": 18,
   "metadata": {
    "collapsed": false
   },
   "outputs": [
    {
     "name": "stdout",
     "output_type": "stream",
     "text": [
      "6897992\n",
      "6898016\n",
      "6898016\n"
     ]
    }
   ],
   "source": [
    "# a in the namespace points to object 2\n",
    "# a in the namespace points moves to object 3 \n",
    "# new name b is created in the namespace and points to object 2\n",
    "print(id(a))\n",
    "print(id(b))\n",
    "print(id(2))"
   ]
  },
  {
   "cell_type": "markdown",
   "metadata": {},
   "source": [
    "![](namespace.jpg?raw=true)"
   ]
  },
  {
   "cell_type": "code",
   "execution_count": 51,
   "metadata": {
    "collapsed": false
   },
   "outputs": [
    {
     "data": {
      "text/plain": [
       "<module 'utilities' from 'utilities.pyc'>"
      ]
     },
     "execution_count": 51,
     "metadata": {},
     "output_type": "execute_result"
    }
   ],
   "source": [
    "import utilities\n",
    "reload(utilities)"
   ]
  },
  {
   "cell_type": "code",
   "execution_count": 64,
   "metadata": {
    "collapsed": false
   },
   "outputs": [
    {
     "name": "stdout",
     "output_type": "stream",
     "text": [
      "['__builtin__', '__builtins__', '__doc__', '__name__', '__package__', 'a', 'b', 'exit', 'get_ipython', 'iam_bool', 'iam_complex', 'iam_float', 'iam_integer', 'iam_str', 'my_dir', 'quit', 'utilities', 'variable_a', 'variable_b', 'x']\n"
     ]
    }
   ],
   "source": [
    "print(utilities.my_dir(dir()))"
   ]
  },
  {
   "cell_type": "code",
   "execution_count": null,
   "metadata": {
    "collapsed": false
   },
   "outputs": [],
   "source": []
  },
  {
   "cell_type": "code",
   "execution_count": null,
   "metadata": {
    "collapsed": true
   },
   "outputs": [],
   "source": []
  }
 ],
 "metadata": {
  "kernelspec": {
   "display_name": "Python 2",
   "language": "python",
   "name": "python2"
  },
  "language_info": {
   "codemirror_mode": {
    "name": "ipython",
    "version": 2
   },
   "file_extension": ".py",
   "mimetype": "text/x-python",
   "name": "python",
   "nbconvert_exporter": "python",
   "pygments_lexer": "ipython2",
   "version": "2.7.11"
  }
 },
 "nbformat": 4,
 "nbformat_minor": 0
}
